{
    "cells": [
        {
            "cell_type": "code",
            "execution_count": 16,
            "source": [
                "import torch\r\n",
                "import torch.nn as nn\r\n",
                "from torch.nn import functional as F\r\n",
                "import torch.optim as optim\r\n",
                "from torchsummary import summary\r\n",
                "from torchviz import make_dot"
            ],
            "outputs": [],
            "metadata": {}
        },
        {
            "cell_type": "code",
            "execution_count": 21,
            "source": [
                "class Net(nn.Module):\r\n",
                "    def __init__(self):\r\n",
                "        super(Net, self).__init__()\r\n",
                "        self.conv1 = nn.Conv2d(3, 6, 5)\r\n",
                "        self.pool = nn.MaxPool2d(2, 2)\r\n",
                "        self.conv2 = nn.Conv2d(6, 16, 5)\r\n",
                "        self.fc1 = nn.Linear(16 * 5 * 5, 120)\r\n",
                "        self.fc2 = nn.Linear(120, 84)\r\n",
                "        self.fc3 = nn.Linear(84, 10)\r\n",
                "\r\n",
                "    def forward(self, x):\r\n",
                "        x = self.pool(F.relu(self.conv1(x)))\r\n",
                "        x = self.pool(F.relu(self.conv2(x)))\r\n",
                "        x = x.view(-1, 16 * 5 * 5)\r\n",
                "        x = F.relu(self.fc1(x))\r\n",
                "        x = F.relu(self.fc2(x))\r\n",
                "        x = self.fc3(x)\r\n",
                "        return x\r\n",
                "\r\n",
                "net = Net()\r\n",
                "print(net)"
            ],
            "outputs": [
                {
                    "output_type": "stream",
                    "name": "stdout",
                    "text": [
                        "Net(\n",
                        "  (conv1): Conv2d(3, 6, kernel_size=(5, 5), stride=(1, 1))\n",
                        "  (pool): MaxPool2d(kernel_size=2, stride=2, padding=0, dilation=1, ceil_mode=False)\n",
                        "  (conv2): Conv2d(6, 16, kernel_size=(5, 5), stride=(1, 1))\n",
                        "  (fc1): Linear(in_features=400, out_features=120, bias=True)\n",
                        "  (fc2): Linear(in_features=120, out_features=84, bias=True)\n",
                        "  (fc3): Linear(in_features=84, out_features=10, bias=True)\n",
                        ")\n"
                    ]
                }
            ],
            "metadata": {}
        },
        {
            "cell_type": "code",
            "execution_count": null,
            "source": [
                "class Net(nn.Module):\r\n",
                "    def __init__(self):\r\n",
                "        super(Net, self).__init__()\r\n",
                "        self.fc1 = nn.Linear(16, 1)\r\n",
                "    \r\n",
                "    def forward(self, x):\r\n",
                "        x = self.fc1(x)"
            ],
            "outputs": [],
            "metadata": {}
        }
    ],
    "metadata": {
        "orig_nbformat": 4,
        "language_info": {
            "name": "python",
            "version": "3.9.6",
            "mimetype": "text/x-python",
            "codemirror_mode": {
                "name": "ipython",
                "version": 3
            },
            "pygments_lexer": "ipython3",
            "nbconvert_exporter": "python",
            "file_extension": ".py"
        },
        "kernelspec": {
            "name": "python3",
            "display_name": "Python 3.9.6 64-bit ('base': conda)"
        },
        "interpreter": {
            "hash": "ecf5722fdaf1897a315d257d89d94520bfcaa453217d5becf09b39e73618b0de"
        }
    },
    "nbformat": 4,
    "nbformat_minor": 2
}